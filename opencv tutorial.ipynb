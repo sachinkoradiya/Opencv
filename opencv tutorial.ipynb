{
 "cells": [
  {
   "cell_type": "markdown",
   "metadata": {},
   "source": [
    "# image open"
   ]
  },
  {
   "cell_type": "code",
   "execution_count": 2,
   "metadata": {},
   "outputs": [],
   "source": [
    "import cv2\n",
    "img = cv2.imread(\"atmiya.png\",0)\n",
    "img1 = cv2.imread(\"atmiya.png\",1)\n",
    "#resized_image = cv2.resize(img, (650,500))\n",
    "cv2.imshow(\"b\",img)\n",
    "cv2.imshow(\"atmiya\",img1)\n",
    "cv2.waitKey(0)\n",
    "cv2.destroyAllWindows()"
   ]
  },
  {
   "cell_type": "markdown",
   "metadata": {},
   "source": [
    "# check video is play or not"
   ]
  },
  {
   "cell_type": "code",
   "execution_count": null,
   "metadata": {},
   "outputs": [],
   "source": [
    "import cv2 ,time\n",
    "video = cv2.VideoCapture(0)\n",
    "check,frame = video.read()\n",
    "print(check)\n",
    "cv2.imshow(\"Capturing\",frame)\n",
    "cv2.waitKey(500)\n",
    "\n",
    "# print(check)\n",
    "# print(frame)\n",
    "# time.sleep(3)\n",
    "video.release()\n",
    "cv2.destroyAllWindows"
   ]
  },
  {
   "cell_type": "code",
   "execution_count": null,
   "metadata": {},
   "outputs": [],
   "source": []
  },
  {
   "cell_type": "code",
   "execution_count": null,
   "metadata": {},
   "outputs": [],
   "source": []
  },
  {
   "cell_type": "markdown",
   "metadata": {},
   "source": [
    "# save video"
   ]
  },
  {
   "cell_type": "code",
   "execution_count": null,
   "metadata": {},
   "outputs": [],
   "source": [
    "import cv2\n",
    "import numpy\n",
    "import matplotlib\n",
    "\n",
    "cap = cv2.VideoCapture(0)\n",
    "sav = cv2.VideoWriter_fourcc(*'XVID')\n",
    "out = cv2.VideoWriter('out.avi' , sav , 20.0 , (640,480))\n",
    "while True:\n",
    "    ret , frame = cap.read()\n",
    "    gray = cv2.cvtColor(frame,cv2.COLOR_BGR2GRAY)\n",
    "    out.write(frame)\n",
    "    cv2.imshow(\"frame\" , frame)\n",
    "    cv2.imshow(\"gray\" , gray)\n",
    "    \n",
    "    if cv2.waitKey(1) & 0xFF == ord('q'):\n",
    "        break\n",
    "\n",
    "cap.release()\n",
    "out.release()\n",
    "cv2.destroyAllWindows()"
   ]
  },
  {
   "cell_type": "markdown",
   "metadata": {},
   "source": [
    "\n",
    "# edit image"
   ]
  },
  {
   "cell_type": "code",
   "execution_count": null,
   "metadata": {},
   "outputs": [],
   "source": [
    "import cv2\n",
    "import numpy\n",
    "import matplotlib\n",
    "\n",
    "img = cv2.imread(\"atmiya.png\",1)\n",
    "cv2.line(img,(0,0),(100,200),(0,0,55),1)\n",
    "cv2.rectangle(img,(0,0),(50,500),(0,255,0),1)\n",
    "cv2.circle(img,(100,100),50,(0,255,0),2)\n",
    "ts = numpy.array([[10,20],[20,30],[30,140],[40,50]],numpy.int32)\n",
    "cv2.polylines(img , [ts] , True , (255,145,214) , 5)\n",
    "\n",
    "cv2.imshow(\"image\",img)\n",
    "cv2.waitKey(0)\n",
    "cv2.destroyAllWindows()"
   ]
  },
  {
   "cell_type": "markdown",
   "metadata": {},
   "source": [
    "# add image part"
   ]
  },
  {
   "cell_type": "code",
   "execution_count": null,
   "metadata": {},
   "outputs": [],
   "source": [
    "import cv2\n",
    "import numpy\n",
    "import matplotlib\n",
    "\n",
    "img = cv2.imread(\"atmiya.png\",1)\n",
    "img1 = cv2.imread(\"fusion.png\",1)\n",
    "\n",
    "logo = img[10:80 ,15:85]\n",
    "img1[0:70 , 0:70] = logo\n",
    "cv2.imshow('image',img1)\n",
    "cv2.waitKey(0)\n",
    "cv2.destroyAllWindows()"
   ]
  },
  {
   "cell_type": "markdown",
   "metadata": {},
   "source": [
    "# add image"
   ]
  },
  {
   "cell_type": "code",
   "execution_count": null,
   "metadata": {},
   "outputs": [],
   "source": [
    "import cv2\n",
    "import numpy\n",
    "import matplotlib\n",
    "\n",
    "img = cv2.imread(\"atmiya.png\",1)\n",
    "img1 = cv2.imread(\"fusion.png\",1)\n",
    "im = cv2.resize(img, (177,177))\n",
    "im1 = cv2.resize(img1, (177,177))\n",
    "add = im + im1\n",
    "cv2.imshow('image',add)\n",
    "cv2.waitKey(0)\n",
    "cv2.destroyAllWindows()\n"
   ]
  },
  {
   "cell_type": "markdown",
   "metadata": {},
   "source": [
    "# threshold"
   ]
  },
  {
   "cell_type": "code",
   "execution_count": null,
   "metadata": {},
   "outputs": [],
   "source": [
    "import cv2\n",
    "import numpy\n",
    "import matplotlib\n",
    "\n",
    "img = cv2.imread(\"atmiya.png\",1)\n",
    "retval ,thresold = cv2.threshold(img , 200 , 255 ,cv2.THRESH_BINARY)\n",
    "gray_scal = cv2.cvtColor(img , cv2.COLOR_BGR2GRAY)\n",
    "retval2 ,thresold2 = cv2.threshold(gray_scal , 200 , 255 ,cv2.THRESH_BINARY)\n",
    "gues = cv2.adaptiveThreshold(gray_scal,255,cv2.ADAPTIVE_THRESH_GAUSSIAN_C , cv2.THRESH_BINARY , 155 ,1 )\n",
    "\n",
    "cv2.imshow('image',img)\n",
    "cv2.imshow('threshold',thresold)\n",
    "cv2.imshow('gray_scal',gray_scal)\n",
    "cv2.imshow('gues',gues)\n",
    "cv2.waitKey(0)\n",
    "cv2.destroyAllWindows()"
   ]
  },
  {
   "cell_type": "markdown",
   "metadata": {},
   "source": [
    "# color filtering\n"
   ]
  },
  {
   "cell_type": "code",
   "execution_count": null,
   "metadata": {},
   "outputs": [],
   "source": [
    "import cv2\n",
    "import numpy as np\n",
    "import matplotlib\n",
    "\n",
    "cap = cv2.VideoCapture(0)\n",
    "while True:\n",
    "    _,frame = cap.read()\n",
    "    hsv = cv2.cvtColor(frame , cv2.COLOR_BGR2HSV)\n",
    "    \n",
    "    lower_red = np.array([150,150,50])\n",
    "    upper_red = np.array([180,255,255])\n",
    "    \n",
    "    mask = cv2.inRange(hsv , lower_red , upper_red)\n",
    "    res = cv2.bitwise_and(frame ,frame , mask=mask)\n",
    "    \n",
    "    cv2.imshow(\"original\",frame)\n",
    "    cv2.imshow(\"mask\",mask)\n",
    "    cv2.imshow(\"result\",res)\n",
    "    \n",
    "    k= cv2.waitKey(5) & 0xFF == ord('q')\n",
    "    if k == 4:\n",
    "        break      \n",
    "cv2.destroyAllWindows()\n",
    "cap.release()"
   ]
  },
  {
   "cell_type": "markdown",
   "metadata": {},
   "source": [
    "# edge detection"
   ]
  },
  {
   "cell_type": "code",
   "execution_count": null,
   "metadata": {},
   "outputs": [],
   "source": [
    "import cv2\n",
    "import numpy as np\n",
    "import matplotlib\n",
    "\n",
    "cap = cv2.VideoCapture(0)\n",
    "while True:\n",
    "    _,frame = cap.read()\n",
    "    \n",
    "    laplacian = cv2.Laplacian(frame , cv2.CV_64F)\n",
    "    edges = cv2.Canny(frame,100,100)\n",
    "    \n",
    "    \n",
    "    cv2.imshow('original',frame)\n",
    "    cv2.imshow('laplacian',laplacian)\n",
    "    cv2.imshow('edges',edges)\n",
    "        \n",
    "    \n",
    "    k= cv2.waitKey(5) & 0xFF == ord('q')\n",
    "    if k == 4:\n",
    "        break \n",
    "cv2.destroyAllWindows()\n",
    "cap.release()"
   ]
  },
  {
   "cell_type": "markdown",
   "metadata": {},
   "source": [
    "# corner detection"
   ]
  },
  {
   "cell_type": "code",
   "execution_count": 22,
   "metadata": {},
   "outputs": [],
   "source": [
    "import cv2\n",
    "import numpy as np\n",
    "import matplotlib\n",
    "\n",
    "img = cv2.imread(\"atmiya.png\",1)\n",
    "gray = cv2.cvtColor(img,cv2.COLOR_BGR2GRAY)\n",
    "gray = np.float32(gray)\n",
    "\n",
    "corner = cv2.goodFeaturesToTrack(gray, 500 , 0.01, 1)\n",
    "corner = np.int0(corner)\n",
    "\n",
    "for cor in corner:\n",
    "    x,y = cor.ravel()\n",
    "    cv2.circle(img,(x,y),3,255,-1)\n",
    "\n",
    "cv2.imshow(\"corner\",img)\n",
    "cv2.waitKey(0)\n",
    "cv2.destroyAllWindows()"
   ]
  },
  {
   "cell_type": "markdown",
   "metadata": {},
   "source": [
    "# background reduction"
   ]
  },
  {
   "cell_type": "code",
   "execution_count": null,
   "metadata": {},
   "outputs": [],
   "source": [
    "import cv2\n",
    "import numpy as np\n",
    "import matplotlib\n",
    "\n",
    "cap = cv2.VideoCapture(0)\n",
    "fgbg = cv2.createBackgroundSubtractorMOG2()\n",
    "while True:\n",
    "    ret ,frame = cap.read()\n",
    "    fgmask = fgbg.apply(frame)\n",
    "    \n",
    "    cv2.imshow(\"original\",frame)\n",
    "    cv2.imshow(\"fgmask\",fgmask)\n",
    "    \n",
    "    k= cv2.waitKey(30) & 0xFF\n",
    "    if k == 27:\n",
    "        break      \n",
    "cv2.destroyAllWindows()\n",
    "cap.release()"
   ]
  },
  {
   "cell_type": "markdown",
   "metadata": {},
   "source": [
    "# face & eye detection"
   ]
  },
  {
   "cell_type": "code",
   "execution_count": null,
   "metadata": {},
   "outputs": [],
   "source": [
    "import numpy as np\n",
    "import cv2\n",
    "\n",
    "face_cascade = cv2.CascadeClassifier('haarcascade_frontalface_default.xml')\n",
    "eye_cascade = cv2.CascadeClassifier('haarcascade_eye.xml')\n",
    "cap = cv2.VideoCapture(0)\n",
    "\n",
    "while True:\n",
    "    ret, img = cap.read()\n",
    "    gray = cv2.cvtColor(img, cv2.COLOR_BGR2GRAY)\n",
    "    faces = face_cascade.detectMultiScale(gray, 1.2, 5)\n",
    "\n",
    "    for (x,y,w,h) in faces:\n",
    "        cv2.rectangle(img,(x,y),(x+w,y+h),(255,0,0),2)\n",
    "        roi_gray = gray[y:y+h, x:x+w]\n",
    "        roi_color = img[y:y+h, x:x+w]\n",
    "        \n",
    "        eyes = eye_cascade.detectMultiScale(roi_gray)\n",
    "        for (ex,ey,ew,eh) in eyes:\n",
    "            cv2.rectangle(roi_color,(ex,ey),(ex+ew,ey+eh),(0,255,0),2)\n",
    "\n",
    "    cv2.imshow('img',img)\n",
    "    k = cv2.waitKey(30) & 0xff\n",
    "    if k == 27:\n",
    "        break\n",
    "\n",
    "cap.release()\n",
    "cv2.destroyAllWindows()"
   ]
  },
  {
   "cell_type": "markdown",
   "metadata": {},
   "source": [
    "# face detection"
   ]
  },
  {
   "cell_type": "code",
   "execution_count": 2,
   "metadata": {},
   "outputs": [],
   "source": [
    "import cv2\n",
    "import numpy as np\n",
    "\n",
    "face_cascade = cv2.CascadeClassifier('haarcascade_frontalface_default.xml')\n",
    "\n",
    "cap = cv2.VideoCapture(0)\n",
    "while True:\n",
    "    ret ,frame = cap.read()\n",
    "    gray = cv2.cvtColor(frame , cv2.COLOR_BGR2GRAY)\n",
    "    faces = face_cascade.detectMultiScale(gray , 1.5 , 5)\n",
    "    \n",
    "    for (x,y,w,h) in faces:\n",
    "        #print(x,y,w,h)\n",
    "        roi_gray = gray[y:y+h , x:x+w]\n",
    "        roi_frame = frame[y:y+h , x:x+w]\n",
    "        img_item = \"my img.png\"\n",
    "        cv2.imwrite(img_item , roi_frame)\n",
    "        cv2.rectangle(frame , (x,y),(x+w,y+h) , (255,0,0) , 3)\n",
    "    \n",
    "    cv2.imshow(\"frame\",frame)\n",
    "    if cv2.waitKey(20) & 0XFF == ord('q'):\n",
    "        break\n",
    "cap.release()\n",
    "cv2.destroyAllWindows()\n",
    "    \n",
    "        \n",
    "    \n",
    "    \n",
    "    \n",
    "    \n",
    "    "
   ]
  },
  {
   "cell_type": "code",
   "execution_count": null,
   "metadata": {},
   "outputs": [],
   "source": []
  },
  {
   "cell_type": "code",
   "execution_count": 1,
   "metadata": {},
   "outputs": [],
   "source": []
  }
 ],
 "metadata": {
  "kernelspec": {
   "display_name": "Python 3",
   "language": "python",
   "name": "python3"
  },
  "language_info": {
   "codemirror_mode": {
    "name": "ipython",
    "version": 3
   },
   "file_extension": ".py",
   "mimetype": "text/x-python",
   "name": "python",
   "nbconvert_exporter": "python",
   "pygments_lexer": "ipython3",
   "version": "3.6.5"
  }
 },
 "nbformat": 4,
 "nbformat_minor": 2
}
